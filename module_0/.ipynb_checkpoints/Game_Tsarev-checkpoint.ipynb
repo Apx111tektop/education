{
 "cells": [
  {
   "cell_type": "code",
   "execution_count": 1,
   "metadata": {},
   "outputs": [],
   "source": [
    "import numpy as np\n",
    "def game_core_v3(number):\n",
    "    \"\"\"Угадываем загаданное чиcло путем разбиения интервала где находится это число на две равные части, \n",
    "    узнаем  в какой части находится загаданное число, получившийся интервал опять делим на две части  т.д\"\"\"\n",
    "    count = 1\n",
    "    down_line = 0 # Нижняя граница итервала\n",
    "    up_line = 100 # Верхняя граница интервала\n",
    "    predict = round((up_line - down_line)/2) # Присваеваем переменной значение середины интервала\n",
    "     \n",
    "    while number != predict:\n",
    "        count+=1\n",
    "        \n",
    "        # Если в интервале осталось два и менее числа отправляем их на проверку перебором\n",
    "        if up_line - down_line <= 2:\n",
    "            predict = down_line + 1\n",
    "        \n",
    "        # Если в интервале больше двух числел находим его середину, присваеваем ее значение переменной и отправляем на проверку\n",
    "        # Если переменная меньше загаданного числа\n",
    "        elif number > predict:\n",
    "            down_line = predict\n",
    "            predict = predict + round((up_line-predict)/2)\n",
    "            \n",
    "        # Если переменная больше загаданного числа    \n",
    "        elif number < predict: \n",
    "            up_line = predict\n",
    "            predict = predict - round((predict-down_line)/2)\n",
    "    return(count) # выход из цикла, если угадали\n",
    "        \n",
    "        \n",
    "def score_game(game_core):\n",
    "    '''Запускаем игру 1000 раз, чтобы узнать, как быстро игра угадывает число'''\n",
    "    count_ls = []\n",
    "    np.random.seed(1)  # фиксируем RANDOM SEED, чтобы ваш эксперимент был воспроизводим!\n",
    "    random_array = np.random.randint(1,101, size=(1000))\n",
    "    for number in random_array:\n",
    "        count_ls.append(game_core(number))\n",
    "    score = int(np.mean(count_ls))\n",
    "    print(f\"Ваш алгоритм угадывает число в среднем за {score} попыток\")\n",
    "    return(score)"
   ]
  },
  {
   "cell_type": "code",
   "execution_count": 2,
   "metadata": {},
   "outputs": [
    {
     "name": "stdout",
     "output_type": "stream",
     "text": [
      "Ваш алгоритм угадывает число в среднем за 5 попыток\n"
     ]
    },
    {
     "data": {
      "text/plain": [
       "5"
      ]
     },
     "execution_count": 2,
     "metadata": {},
     "output_type": "execute_result"
    }
   ],
   "source": [
    "score_game(game_core_v3)"
   ]
  },
  {
   "cell_type": "code",
   "execution_count": null,
   "metadata": {},
   "outputs": [],
   "source": []
  }
 ],
 "metadata": {
  "kernelspec": {
   "display_name": "Python 3",
   "language": "python",
   "name": "python3"
  },
  "language_info": {
   "codemirror_mode": {
    "name": "ipython",
    "version": 3
   },
   "file_extension": ".py",
   "mimetype": "text/x-python",
   "name": "python",
   "nbconvert_exporter": "python",
   "pygments_lexer": "ipython3",
   "version": "3.8.3"
  }
 },
 "nbformat": 4,
 "nbformat_minor": 4
}
