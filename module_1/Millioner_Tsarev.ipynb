{
 "cells": [
  {
   "cell_type": "code",
   "execution_count": 461,
   "metadata": {
    "_cell_guid": "b1076dfc-b9ad-4769-8c92-a6c4dae69d19",
    "_uuid": "8f2839f25d086af736a60e9eeb907d3b93b6e0e5",
    "colab": {},
    "colab_type": "code",
    "id": "U2D2gTdJVp90"
   },
   "outputs": [],
   "source": [
    "import numpy as np\n",
    "import pandas as pd\n",
    "import seaborn as sns\n",
    "import matplotlib.pyplot as plt\n",
    "from collections import Counter"
   ]
  },
  {
   "cell_type": "code",
   "execution_count": 462,
   "metadata": {
    "_cell_guid": "79c7e3d0-c299-4dcb-8224-4455121ee9b0",
    "_uuid": "d629ff2d2480ee46fbb7e2d37f6b5fab8052498a",
    "colab": {},
    "colab_type": "code",
    "id": "oyGfxL3eVp9-"
   },
   "outputs": [
    {
     "data": {
      "text/html": [
       "<div>\n",
       "<style scoped>\n",
       "    .dataframe tbody tr th:only-of-type {\n",
       "        vertical-align: middle;\n",
       "    }\n",
       "\n",
       "    .dataframe tbody tr th {\n",
       "        vertical-align: top;\n",
       "    }\n",
       "\n",
       "    .dataframe thead th {\n",
       "        text-align: right;\n",
       "    }\n",
       "</style>\n",
       "<table border=\"1\" class=\"dataframe\">\n",
       "  <thead>\n",
       "    <tr style=\"text-align: right;\">\n",
       "      <th></th>\n",
       "      <th>imdb_id</th>\n",
       "      <th>budget</th>\n",
       "      <th>revenue</th>\n",
       "      <th>original_title</th>\n",
       "      <th>cast</th>\n",
       "      <th>director</th>\n",
       "      <th>tagline</th>\n",
       "      <th>overview</th>\n",
       "      <th>runtime</th>\n",
       "      <th>genres</th>\n",
       "      <th>production_companies</th>\n",
       "      <th>release_date</th>\n",
       "      <th>vote_average</th>\n",
       "      <th>release_year</th>\n",
       "    </tr>\n",
       "  </thead>\n",
       "  <tbody>\n",
       "    <tr>\n",
       "      <th>157</th>\n",
       "      <td>tt0829150</td>\n",
       "      <td>70000000</td>\n",
       "      <td>215529201</td>\n",
       "      <td>Dracula Untold</td>\n",
       "      <td>Luke Evans|Sarah Gadon|Dominic Cooper|Art Park...</td>\n",
       "      <td>Gary Shore</td>\n",
       "      <td>Every bloodline has a beginning</td>\n",
       "      <td>Vlad Tepes is a great hero, but when he learns...</td>\n",
       "      <td>92</td>\n",
       "      <td>Horror|Action|Drama|Fantasy|War</td>\n",
       "      <td>Universal Pictures|Legendary Pictures|Fuji Tel...</td>\n",
       "      <td>10/1/2014</td>\n",
       "      <td>6.1</td>\n",
       "      <td>2014</td>\n",
       "    </tr>\n",
       "    <tr>\n",
       "      <th>1061</th>\n",
       "      <td>tt1598828</td>\n",
       "      <td>40000000</td>\n",
       "      <td>36893721</td>\n",
       "      <td>One for the Money</td>\n",
       "      <td>Katherine Heigl|John Leguizamo|Debbie Reynolds...</td>\n",
       "      <td>Julie Anne Robinson</td>\n",
       "      <td>She's looking for a few not-so-good men</td>\n",
       "      <td>Stephanie Plum (Katherine Heigl), an unemploye...</td>\n",
       "      <td>91</td>\n",
       "      <td>Action|Comedy|Thriller|Crime|Romance</td>\n",
       "      <td>Lakeshore Entertainment|Sidney Kimmel Entertai...</td>\n",
       "      <td>1/26/2012</td>\n",
       "      <td>5.2</td>\n",
       "      <td>2012</td>\n",
       "    </tr>\n",
       "    <tr>\n",
       "      <th>489</th>\n",
       "      <td>tt1013860</td>\n",
       "      <td>20000000</td>\n",
       "      <td>4634062</td>\n",
       "      <td>Dylan Dog: Dead of Night</td>\n",
       "      <td>Brandon Routh|Peter Stormare|Sam Huntington|Ta...</td>\n",
       "      <td>Kevin Munroe</td>\n",
       "      <td>No pulse? No problem</td>\n",
       "      <td>The adventures of supernatural private eye, Dy...</td>\n",
       "      <td>107</td>\n",
       "      <td>Action|Comedy|Horror|Mystery|Science Fiction</td>\n",
       "      <td>Hyde Park Films|platinum studios|Long Distance...</td>\n",
       "      <td>10/26/2010</td>\n",
       "      <td>4.9</td>\n",
       "      <td>2010</td>\n",
       "    </tr>\n",
       "    <tr>\n",
       "      <th>1316</th>\n",
       "      <td>tt0401792</td>\n",
       "      <td>40000000</td>\n",
       "      <td>158733820</td>\n",
       "      <td>Sin City</td>\n",
       "      <td>Jessica Alba|Devon Aoki|Alexis Bledel|Powers B...</td>\n",
       "      <td>Robert Rodriguez|Frank Miller|Quentin Tarantino</td>\n",
       "      <td>Walk down the right back alley in Sin City and...</td>\n",
       "      <td>Welcome to Sin City. This town beckons to the ...</td>\n",
       "      <td>124</td>\n",
       "      <td>Action|Thriller|Crime</td>\n",
       "      <td>Dimension Films|Troublemaker Studios|Miramax</td>\n",
       "      <td>3/31/2005</td>\n",
       "      <td>7.1</td>\n",
       "      <td>2005</td>\n",
       "    </tr>\n",
       "    <tr>\n",
       "      <th>108</th>\n",
       "      <td>tt3077214</td>\n",
       "      <td>14000000</td>\n",
       "      <td>16002420</td>\n",
       "      <td>Suffragette</td>\n",
       "      <td>Carey Mulligan|Helena Bonham Carter|Meryl Stre...</td>\n",
       "      <td>Sarah Gavron</td>\n",
       "      <td>Mothers. Daughters. Rebels.</td>\n",
       "      <td>Based on true events about the foot soldiers o...</td>\n",
       "      <td>106</td>\n",
       "      <td>Drama|History</td>\n",
       "      <td>Ruby Films|PathÃ©|Film4</td>\n",
       "      <td>10/16/2015</td>\n",
       "      <td>7.1</td>\n",
       "      <td>2015</td>\n",
       "    </tr>\n",
       "  </tbody>\n",
       "</table>\n",
       "</div>"
      ],
      "text/plain": [
       "        imdb_id    budget    revenue            original_title  \\\n",
       "157   tt0829150  70000000  215529201            Dracula Untold   \n",
       "1061  tt1598828  40000000   36893721         One for the Money   \n",
       "489   tt1013860  20000000    4634062  Dylan Dog: Dead of Night   \n",
       "1316  tt0401792  40000000  158733820                  Sin City   \n",
       "108   tt3077214  14000000   16002420               Suffragette   \n",
       "\n",
       "                                                   cast  \\\n",
       "157   Luke Evans|Sarah Gadon|Dominic Cooper|Art Park...   \n",
       "1061  Katherine Heigl|John Leguizamo|Debbie Reynolds...   \n",
       "489   Brandon Routh|Peter Stormare|Sam Huntington|Ta...   \n",
       "1316  Jessica Alba|Devon Aoki|Alexis Bledel|Powers B...   \n",
       "108   Carey Mulligan|Helena Bonham Carter|Meryl Stre...   \n",
       "\n",
       "                                             director  \\\n",
       "157                                        Gary Shore   \n",
       "1061                              Julie Anne Robinson   \n",
       "489                                      Kevin Munroe   \n",
       "1316  Robert Rodriguez|Frank Miller|Quentin Tarantino   \n",
       "108                                      Sarah Gavron   \n",
       "\n",
       "                                                tagline  \\\n",
       "157                     Every bloodline has a beginning   \n",
       "1061            She's looking for a few not-so-good men   \n",
       "489                                No pulse? No problem   \n",
       "1316  Walk down the right back alley in Sin City and...   \n",
       "108                         Mothers. Daughters. Rebels.   \n",
       "\n",
       "                                               overview  runtime  \\\n",
       "157   Vlad Tepes is a great hero, but when he learns...       92   \n",
       "1061  Stephanie Plum (Katherine Heigl), an unemploye...       91   \n",
       "489   The adventures of supernatural private eye, Dy...      107   \n",
       "1316  Welcome to Sin City. This town beckons to the ...      124   \n",
       "108   Based on true events about the foot soldiers o...      106   \n",
       "\n",
       "                                            genres  \\\n",
       "157                Horror|Action|Drama|Fantasy|War   \n",
       "1061          Action|Comedy|Thriller|Crime|Romance   \n",
       "489   Action|Comedy|Horror|Mystery|Science Fiction   \n",
       "1316                         Action|Thriller|Crime   \n",
       "108                                  Drama|History   \n",
       "\n",
       "                                   production_companies release_date  \\\n",
       "157   Universal Pictures|Legendary Pictures|Fuji Tel...    10/1/2014   \n",
       "1061  Lakeshore Entertainment|Sidney Kimmel Entertai...    1/26/2012   \n",
       "489   Hyde Park Films|platinum studios|Long Distance...   10/26/2010   \n",
       "1316       Dimension Films|Troublemaker Studios|Miramax    3/31/2005   \n",
       "108                             Ruby Films|PathÃ©|Film4   10/16/2015   \n",
       "\n",
       "      vote_average  release_year  \n",
       "157            6.1          2014  \n",
       "1061           5.2          2012  \n",
       "489            4.9          2010  \n",
       "1316           7.1          2005  \n",
       "108            7.1          2015  "
      ]
     },
     "execution_count": 462,
     "metadata": {},
     "output_type": "execute_result"
    }
   ],
   "source": [
    "data = pd.read_csv('movie_bd_v5.csv')\n",
    "data.sample(5)"
   ]
  },
  {
   "cell_type": "code",
   "execution_count": 463,
   "metadata": {
    "colab": {},
    "colab_type": "code",
    "id": "CoYUnagMVp-C"
   },
   "outputs": [
    {
     "data": {
      "text/html": [
       "<div>\n",
       "<style scoped>\n",
       "    .dataframe tbody tr th:only-of-type {\n",
       "        vertical-align: middle;\n",
       "    }\n",
       "\n",
       "    .dataframe tbody tr th {\n",
       "        vertical-align: top;\n",
       "    }\n",
       "\n",
       "    .dataframe thead th {\n",
       "        text-align: right;\n",
       "    }\n",
       "</style>\n",
       "<table border=\"1\" class=\"dataframe\">\n",
       "  <thead>\n",
       "    <tr style=\"text-align: right;\">\n",
       "      <th></th>\n",
       "      <th>budget</th>\n",
       "      <th>revenue</th>\n",
       "      <th>runtime</th>\n",
       "      <th>vote_average</th>\n",
       "      <th>release_year</th>\n",
       "    </tr>\n",
       "  </thead>\n",
       "  <tbody>\n",
       "    <tr>\n",
       "      <th>count</th>\n",
       "      <td>1.889000e+03</td>\n",
       "      <td>1.889000e+03</td>\n",
       "      <td>1889.000000</td>\n",
       "      <td>1889.000000</td>\n",
       "      <td>1889.000000</td>\n",
       "    </tr>\n",
       "    <tr>\n",
       "      <th>mean</th>\n",
       "      <td>5.431083e+07</td>\n",
       "      <td>1.553653e+08</td>\n",
       "      <td>109.658549</td>\n",
       "      <td>6.140762</td>\n",
       "      <td>2007.860773</td>\n",
       "    </tr>\n",
       "    <tr>\n",
       "      <th>std</th>\n",
       "      <td>4.858721e+07</td>\n",
       "      <td>2.146698e+08</td>\n",
       "      <td>18.017041</td>\n",
       "      <td>0.764763</td>\n",
       "      <td>4.468841</td>\n",
       "    </tr>\n",
       "    <tr>\n",
       "      <th>min</th>\n",
       "      <td>5.000000e+06</td>\n",
       "      <td>2.033165e+06</td>\n",
       "      <td>63.000000</td>\n",
       "      <td>3.300000</td>\n",
       "      <td>2000.000000</td>\n",
       "    </tr>\n",
       "    <tr>\n",
       "      <th>25%</th>\n",
       "      <td>2.000000e+07</td>\n",
       "      <td>3.456058e+07</td>\n",
       "      <td>97.000000</td>\n",
       "      <td>5.600000</td>\n",
       "      <td>2004.000000</td>\n",
       "    </tr>\n",
       "    <tr>\n",
       "      <th>50%</th>\n",
       "      <td>3.800000e+07</td>\n",
       "      <td>8.361541e+07</td>\n",
       "      <td>107.000000</td>\n",
       "      <td>6.100000</td>\n",
       "      <td>2008.000000</td>\n",
       "    </tr>\n",
       "    <tr>\n",
       "      <th>75%</th>\n",
       "      <td>7.200000e+07</td>\n",
       "      <td>1.782626e+08</td>\n",
       "      <td>120.000000</td>\n",
       "      <td>6.600000</td>\n",
       "      <td>2012.000000</td>\n",
       "    </tr>\n",
       "    <tr>\n",
       "      <th>max</th>\n",
       "      <td>3.800000e+08</td>\n",
       "      <td>2.781506e+09</td>\n",
       "      <td>214.000000</td>\n",
       "      <td>8.100000</td>\n",
       "      <td>2015.000000</td>\n",
       "    </tr>\n",
       "  </tbody>\n",
       "</table>\n",
       "</div>"
      ],
      "text/plain": [
       "             budget       revenue      runtime  vote_average  release_year\n",
       "count  1.889000e+03  1.889000e+03  1889.000000   1889.000000   1889.000000\n",
       "mean   5.431083e+07  1.553653e+08   109.658549      6.140762   2007.860773\n",
       "std    4.858721e+07  2.146698e+08    18.017041      0.764763      4.468841\n",
       "min    5.000000e+06  2.033165e+06    63.000000      3.300000   2000.000000\n",
       "25%    2.000000e+07  3.456058e+07    97.000000      5.600000   2004.000000\n",
       "50%    3.800000e+07  8.361541e+07   107.000000      6.100000   2008.000000\n",
       "75%    7.200000e+07  1.782626e+08   120.000000      6.600000   2012.000000\n",
       "max    3.800000e+08  2.781506e+09   214.000000      8.100000   2015.000000"
      ]
     },
     "execution_count": 463,
     "metadata": {},
     "output_type": "execute_result"
    }
   ],
   "source": [
    "data.describe()"
   ]
  },
  {
   "cell_type": "code",
   "execution_count": 464,
   "metadata": {},
   "outputs": [
    {
     "name": "stdout",
     "output_type": "stream",
     "text": [
      "<class 'pandas.core.frame.DataFrame'>\n",
      "RangeIndex: 1889 entries, 0 to 1888\n",
      "Data columns (total 14 columns):\n",
      " #   Column                Non-Null Count  Dtype  \n",
      "---  ------                --------------  -----  \n",
      " 0   imdb_id               1889 non-null   object \n",
      " 1   budget                1889 non-null   int64  \n",
      " 2   revenue               1889 non-null   int64  \n",
      " 3   original_title        1889 non-null   object \n",
      " 4   cast                  1889 non-null   object \n",
      " 5   director              1889 non-null   object \n",
      " 6   tagline               1889 non-null   object \n",
      " 7   overview              1889 non-null   object \n",
      " 8   runtime               1889 non-null   int64  \n",
      " 9   genres                1889 non-null   object \n",
      " 10  production_companies  1889 non-null   object \n",
      " 11  release_date          1889 non-null   object \n",
      " 12  vote_average          1889 non-null   float64\n",
      " 13  release_year          1889 non-null   int64  \n",
      "dtypes: float64(1), int64(4), object(9)\n",
      "memory usage: 206.7+ KB\n"
     ]
    }
   ],
   "source": [
    "data.info()"
   ]
  },
  {
   "cell_type": "markdown",
   "metadata": {
    "colab_type": "text",
    "id": "DTIt7ezGVp-G"
   },
   "source": [
    "# Предобработка"
   ]
  },
  {
   "cell_type": "code",
   "execution_count": 465,
   "metadata": {
    "colab": {},
    "colab_type": "code",
    "id": "jNb40DwKVp-H"
   },
   "outputs": [],
   "source": [
    "answers = {} # создадим словарь для ответов\n",
    "\n",
    "# тут другие ваши предобработки колонок например:\n",
    "\n",
    "#the time given in the dataset is in string format.\n",
    "#So we need to change this in datetime format\n",
    "# ...\n",
    "def profits (row):\n",
    "    profit = row['revenue'] - row['budget']\n",
    "    return profit"
   ]
  },
  {
   "cell_type": "markdown",
   "metadata": {
    "colab_type": "text",
    "id": "YxZaH-nPVp-L"
   },
   "source": [
    "# 1. У какого фильма из списка самый большой бюджет?"
   ]
  },
  {
   "cell_type": "markdown",
   "metadata": {
    "colab_type": "text",
    "id": "Nd-G5gX6Vp-M"
   },
   "source": [
    "Использовать варианты ответов в коде решения запрещено.    \n",
    "Вы думаете и в жизни у вас будут варианты ответов?)"
   ]
  },
  {
   "cell_type": "code",
   "execution_count": 466,
   "metadata": {
    "colab": {},
    "colab_type": "code",
    "id": "uVnXAY5RVp-O"
   },
   "outputs": [],
   "source": [
    "# в словарь вставляем номер вопроса и ваш ответ на него\n",
    "# Пример: \n",
    "answers['1'] = '2. Spider-Man 3 (tt0413300)'\n",
    "# запишите свой вариант ответа\n",
    "answers['1'] = data.original_title[data.budget == data.budget.max()].iloc[0]\n",
    "# если ответили верно, можете добавить комментарий со значком \"+\""
   ]
  },
  {
   "cell_type": "code",
   "execution_count": 467,
   "metadata": {
    "colab": {},
    "colab_type": "code",
    "id": "dZwb3m28Vp-S"
   },
   "outputs": [
    {
     "data": {
      "text/plain": [
       "'Pirates of the Caribbean: On Stranger Tides'"
      ]
     },
     "execution_count": 467,
     "metadata": {},
     "output_type": "execute_result"
    }
   ],
   "source": [
    "# тут пишем ваш код для решения данного вопроса:\n",
    "data.original_title[data.budget == data.budget.max()].iloc[0]"
   ]
  },
  {
   "cell_type": "markdown",
   "metadata": {
    "colab_type": "text",
    "id": "K7L3nbRXVp-X"
   },
   "source": [
    "ВАРИАНТ 2"
   ]
  },
  {
   "cell_type": "code",
   "execution_count": 468,
   "metadata": {
    "colab": {},
    "colab_type": "code",
    "id": "OGaoQI7rVp-X"
   },
   "outputs": [
    {
     "data": {
      "text/plain": [
       "'Pirates of the Caribbean: On Stranger Tides'"
      ]
     },
     "execution_count": 468,
     "metadata": {},
     "output_type": "execute_result"
    }
   ],
   "source": [
    "# можно добавлять разные варианты решения\n",
    "data.groupby(by = 'original_title').budget.max()[data.groupby(by = 'original_title').budget.max() == data.budget.max()].index[0]\n"
   ]
  },
  {
   "cell_type": "code",
   "execution_count": 469,
   "metadata": {},
   "outputs": [
    {
     "data": {
      "text/plain": [
       "'Pirates of the Caribbean: On Stranger Tides'"
      ]
     },
     "execution_count": 469,
     "metadata": {},
     "output_type": "execute_result"
    }
   ],
   "source": [
    "data.groupby(by = 'original_title').budget.max().sort_values(ascending = False).index[0]"
   ]
  },
  {
   "cell_type": "markdown",
   "metadata": {
    "colab_type": "text",
    "id": "FNRbbI3vVp-c"
   },
   "source": [
    "# 2. Какой из фильмов самый длительный (в минутах)?"
   ]
  },
  {
   "cell_type": "code",
   "execution_count": 470,
   "metadata": {
    "colab": {},
    "colab_type": "code",
    "id": "vHAoEXNTVp-d"
   },
   "outputs": [],
   "source": [
    "# думаю логику работы с этим словарем вы уже поняли, \n",
    "# по этому не буду больше его дублировать\n",
    "answers['2'] = data.original_title[data.runtime == data.runtime.max()].iloc[0]"
   ]
  },
  {
   "cell_type": "code",
   "execution_count": 471,
   "metadata": {
    "colab": {},
    "colab_type": "code",
    "id": "ot-VX2XrVp-g"
   },
   "outputs": [
    {
     "data": {
      "text/plain": [
       "'Gods and Generals'"
      ]
     },
     "execution_count": 471,
     "metadata": {},
     "output_type": "execute_result"
    }
   ],
   "source": [
    "data.original_title[data.runtime == data.runtime.max()].iloc[0]"
   ]
  },
  {
   "cell_type": "code",
   "execution_count": 472,
   "metadata": {},
   "outputs": [
    {
     "data": {
      "text/plain": [
       "'Gods and Generals'"
      ]
     },
     "execution_count": 472,
     "metadata": {},
     "output_type": "execute_result"
    }
   ],
   "source": [
    "data.groupby(by = 'original_title').runtime.max().sort_values(ascending = False).index[0]"
   ]
  },
  {
   "cell_type": "markdown",
   "metadata": {
    "colab_type": "text",
    "id": "bapLlpW8Vp-k"
   },
   "source": [
    "# 3. Какой из фильмов самый короткий (в минутах)?\n",
    "\n",
    "\n",
    "\n"
   ]
  },
  {
   "cell_type": "code",
   "execution_count": 473,
   "metadata": {
    "colab": {},
    "colab_type": "code",
    "id": "YBxaSHuAVp-l"
   },
   "outputs": [],
   "source": [
    "answers['3'] = data.original_title[data.runtime == data.runtime.min()].iloc[0]"
   ]
  },
  {
   "cell_type": "code",
   "execution_count": 474,
   "metadata": {},
   "outputs": [
    {
     "data": {
      "text/plain": [
       "'Winnie the Pooh'"
      ]
     },
     "execution_count": 474,
     "metadata": {},
     "output_type": "execute_result"
    }
   ],
   "source": [
    "data.groupby(by = 'original_title').runtime.min().sort_values(ascending = True).index[0]"
   ]
  },
  {
   "cell_type": "markdown",
   "metadata": {
    "colab_type": "text",
    "id": "TfQbxbfNVp-p"
   },
   "source": [
    "# 4. Какова средняя длительность фильмов?\n"
   ]
  },
  {
   "cell_type": "code",
   "execution_count": 475,
   "metadata": {
    "colab": {},
    "colab_type": "code",
    "id": "5K6dKZYVVp-q"
   },
   "outputs": [],
   "source": [
    "answers['4'] = data.runtime.mean()"
   ]
  },
  {
   "cell_type": "markdown",
   "metadata": {
    "colab_type": "text",
    "id": "r5TvbnT_Vp-u"
   },
   "source": [
    "# 5. Каково медианное значение длительности фильмов? "
   ]
  },
  {
   "cell_type": "code",
   "execution_count": 476,
   "metadata": {
    "colab": {},
    "colab_type": "code",
    "id": "iBROplKnVp-v"
   },
   "outputs": [],
   "source": [
    "answers['5'] = data.runtime.median()"
   ]
  },
  {
   "cell_type": "markdown",
   "metadata": {
    "colab_type": "text",
    "id": "39P-deDSVp-y"
   },
   "source": [
    "# 6. Какой самый прибыльный фильм?\n",
    "#### Внимание! Здесь и далее под «прибылью» или «убытками» понимается разность между сборами и бюджетом фильма. (прибыль = сборы - бюджет) в нашем датасете это будет (profit = revenue - budget) "
   ]
  },
  {
   "cell_type": "code",
   "execution_count": 477,
   "metadata": {
    "colab": {},
    "colab_type": "code",
    "id": "UYZh4T9WVp-y"
   },
   "outputs": [],
   "source": [
    "# лучше код получения столбца profit вынести в Предобработку что в начале\n",
    "data['profit'] = data.apply(profits, axis = 1)\n",
    "answers['6'] = data.original_title[data.profit == data.profit.max()].iloc[0]"
   ]
  },
  {
   "cell_type": "code",
   "execution_count": 478,
   "metadata": {},
   "outputs": [
    {
     "data": {
      "text/plain": [
       "'Avatar'"
      ]
     },
     "execution_count": 478,
     "metadata": {},
     "output_type": "execute_result"
    }
   ],
   "source": [
    "data.groupby(['original_title']).profit.max().sort_values(ascending = False).index[0]"
   ]
  },
  {
   "cell_type": "markdown",
   "metadata": {
    "colab_type": "text",
    "id": "M99JmIX4Vp-2"
   },
   "source": [
    "# 7. Какой фильм самый убыточный? "
   ]
  },
  {
   "cell_type": "code",
   "execution_count": 479,
   "metadata": {
    "colab": {},
    "colab_type": "code",
    "id": "w-D2m4XPVp-3"
   },
   "outputs": [],
   "source": [
    "answers['7'] = data.original_title[data.profit == data.profit.min()].iloc[0]"
   ]
  },
  {
   "cell_type": "code",
   "execution_count": 480,
   "metadata": {},
   "outputs": [
    {
     "data": {
      "text/plain": [
       "'The Lone Ranger'"
      ]
     },
     "execution_count": 480,
     "metadata": {},
     "output_type": "execute_result"
    }
   ],
   "source": [
    "data.groupby(by = 'original_title').profit.min().sort_values(ascending = True).index[0]"
   ]
  },
  {
   "cell_type": "markdown",
   "metadata": {
    "colab_type": "text",
    "id": "wEOM5ERVVp-6"
   },
   "source": [
    "# 8. У скольких фильмов из датасета объем сборов оказался выше бюджета?"
   ]
  },
  {
   "cell_type": "code",
   "execution_count": 481,
   "metadata": {
    "colab": {},
    "colab_type": "code",
    "id": "y00_7HD6Vp-7"
   },
   "outputs": [],
   "source": [
    "answers['8'] = len(data.original_title[data.profit > 0])"
   ]
  },
  {
   "cell_type": "code",
   "execution_count": 482,
   "metadata": {},
   "outputs": [
    {
     "data": {
      "text/plain": [
       "1478"
      ]
     },
     "execution_count": 482,
     "metadata": {},
     "output_type": "execute_result"
    }
   ],
   "source": [
    "len(data.original_title[data.revenue > data.budget])"
   ]
  },
  {
   "cell_type": "markdown",
   "metadata": {
    "colab_type": "text",
    "id": "xhpspA9KVp_A"
   },
   "source": [
    "# 9. Какой фильм оказался самым кассовым в 2008 году?"
   ]
  },
  {
   "cell_type": "code",
   "execution_count": 483,
   "metadata": {
    "colab": {},
    "colab_type": "code",
    "id": "MoUyQr9RVp_B"
   },
   "outputs": [],
   "source": [
    "answers['9'] = data.original_title[(data.release_year == 2008) & (data.revenue == data.revenue[data.release_year == 2008].max())].iloc[0]"
   ]
  },
  {
   "cell_type": "code",
   "execution_count": 484,
   "metadata": {},
   "outputs": [
    {
     "data": {
      "text/plain": [
       "'The Dark Knight'"
      ]
     },
     "execution_count": 484,
     "metadata": {},
     "output_type": "execute_result"
    }
   ],
   "source": [
    "data.original_title.loc[data.revenue[data.release_year == 2008].sort_values(ascending = False).index[0]]"
   ]
  },
  {
   "cell_type": "markdown",
   "metadata": {
    "colab_type": "text",
    "id": "Zi4hDKidVp_F"
   },
   "source": [
    "# 10. Самый убыточный фильм за период с 2012 по 2014 г. (включительно)?\n"
   ]
  },
  {
   "cell_type": "code",
   "execution_count": 508,
   "metadata": {
    "colab": {},
    "colab_type": "code",
    "id": "XqyRmufJVp_F"
   },
   "outputs": [],
   "source": [
    "answers['10'] = data.original_title[(data.release_year >= 2012) & (data.release_year <= 2014) & (data.profit == data.profit[(data.release_year >= 2012) & (data.release_year <= 2014)].min())].iloc[0]"
   ]
  },
  {
   "cell_type": "code",
   "execution_count": 509,
   "metadata": {},
   "outputs": [
    {
     "data": {
      "text/plain": [
       "'The Lone Ranger'"
      ]
     },
     "execution_count": 509,
     "metadata": {},
     "output_type": "execute_result"
    }
   ],
   "source": [
    "data.original_title.loc[data.profit[(data.release_year >= 2012) & (data.release_year <= 2014)].sort_values(ascending = True).index[0]]"
   ]
  },
  {
   "cell_type": "markdown",
   "metadata": {
    "colab_type": "text",
    "id": "EA7Sa9dkVp_I"
   },
   "source": [
    "# 11. Какого жанра фильмов больше всего?"
   ]
  },
  {
   "cell_type": "code",
   "execution_count": 487,
   "metadata": {
    "colab": {},
    "colab_type": "code",
    "id": "zsJAwJ8QVp_J",
    "scrolled": true
   },
   "outputs": [],
   "source": [
    "# эту задачу тоже можно решать разными подходами, попробуй реализовать разные варианты\n",
    "# если будешь добавлять функцию - выноси ее в предобработку что в начале\n",
    "data['sort_genres'] = data.genres.str.split('|')\n",
    "data_new = data.explode('sort_genres')\n",
    "answers['11'] = data_new.sort_genres.value_counts().index[0]"
   ]
  },
  {
   "cell_type": "markdown",
   "metadata": {
    "colab_type": "text",
    "id": "Ax6g2C8SVp_M"
   },
   "source": [
    "ВАРИАНТ 2"
   ]
  },
  {
   "cell_type": "code",
   "execution_count": 488,
   "metadata": {
    "colab": {},
    "colab_type": "code",
    "id": "otO3SbrSVp_N"
   },
   "outputs": [
    {
     "data": {
      "text/plain": [
       "'Drama'"
      ]
     },
     "execution_count": 488,
     "metadata": {},
     "output_type": "execute_result"
    }
   ],
   "source": [
    "s_s_genres = {}\n",
    "s_genres = []\n",
    "for x in range (len(data)):\n",
    "    s_genres += data.sort_genres[x]\n",
    "s_s_genres ['s_genres'] = s_genres\n",
    "genres_df = pd.DataFrame(s_s_genres)\n",
    "genres_df.s_genres.value_counts().index[0]"
   ]
  },
  {
   "cell_type": "markdown",
   "metadata": {
    "colab_type": "text",
    "id": "T9_bPWpkVp_Q"
   },
   "source": [
    "# 12. Фильмы какого жанра чаще всего становятся прибыльными? "
   ]
  },
  {
   "cell_type": "code",
   "execution_count": 489,
   "metadata": {
    "colab": {},
    "colab_type": "code",
    "id": "Tmt8MaK1Vp_R"
   },
   "outputs": [],
   "source": [
    "answers['12'] = data_new.sort_genres[data_new.profit > 0].value_counts().index[0]"
   ]
  },
  {
   "cell_type": "markdown",
   "metadata": {
    "colab_type": "text",
    "id": "0F23bgsDVp_U"
   },
   "source": [
    "# 13. У какого режиссера самые большие суммарные кассовые сбооры?"
   ]
  },
  {
   "cell_type": "code",
   "execution_count": 551,
   "metadata": {
    "colab": {},
    "colab_type": "code",
    "id": "K6Z3J8ygVp_X"
   },
   "outputs": [],
   "source": [
    "data['sort_director'] = data.director.str.split('|')\n",
    "data_director = data.explode('sort_director')\n",
    "answers['13'] = data_director.groupby(['director'])['revenue'].sum().sort_values(ascending = False).index[0]"
   ]
  },
  {
   "cell_type": "markdown",
   "metadata": {
    "colab_type": "text",
    "id": "PsYC9FgRVp_a"
   },
   "source": [
    "# 14. Какой режисер снял больше всего фильмов в стиле Action?"
   ]
  },
  {
   "cell_type": "code",
   "execution_count": 561,
   "metadata": {
    "colab": {},
    "colab_type": "code",
    "id": "wd2M-wHeVp_b"
   },
   "outputs": [],
   "source": [
    "data_director_genres = data_director.explode('sort_genres')\n",
    "answers['14'] = data_director_genres[data_director_genres['sort_genres'].str.contains('Action')]['sort_director'].value_counts().index[0]"
   ]
  },
  {
   "cell_type": "markdown",
   "metadata": {
    "colab_type": "text",
    "id": "PQ0KciD7Vp_f"
   },
   "source": [
    "# 15. Фильмы с каким актером принесли самые высокие кассовые сборы в 2012 году? "
   ]
  },
  {
   "cell_type": "code",
   "execution_count": 492,
   "metadata": {
    "colab": {},
    "colab_type": "code",
    "id": "aga62oeKVp_g"
   },
   "outputs": [],
   "source": [
    "data['sort_cast'] = data.cast.str.split('|')\n",
    "data_cast = data.explode('sort_cast')\n",
    "answers['15'] = data_cast[data_cast.release_year == 2012].groupby(['sort_cast'])['revenue'].sum().sort_values(ascending = False).index[0]"
   ]
  },
  {
   "cell_type": "markdown",
   "metadata": {
    "colab_type": "text",
    "id": "mWHyyL7QVp_j"
   },
   "source": [
    "# 16. Какой актер снялся в большем количестве высокобюджетных фильмов?"
   ]
  },
  {
   "cell_type": "code",
   "execution_count": 493,
   "metadata": {
    "colab": {},
    "colab_type": "code",
    "id": "qQtmHKTFVp_k"
   },
   "outputs": [],
   "source": [
    "answers['16'] = data_cast[data_cast.budget > data.budget.mean()]['sort_cast'].value_counts().index[0]"
   ]
  },
  {
   "cell_type": "markdown",
   "metadata": {
    "colab_type": "text",
    "id": "NIh6AaW5Vp_n"
   },
   "source": [
    "# 17. В фильмах какого жанра больше всего снимался Nicolas Cage? "
   ]
  },
  {
   "cell_type": "code",
   "execution_count": 494,
   "metadata": {
    "colab": {},
    "colab_type": "code",
    "id": "H74SJDIBVp_n"
   },
   "outputs": [
    {
     "name": "stderr",
     "output_type": "stream",
     "text": [
      "<ipython-input-494-474ab0eb1c4c>:2: SettingWithCopyWarning: \n",
      "A value is trying to be set on a copy of a slice from a DataFrame.\n",
      "Try using .loc[row_indexer,col_indexer] = value instead\n",
      "\n",
      "See the caveats in the documentation: https://pandas.pydata.org/pandas-docs/stable/user_guide/indexing.html#returning-a-view-versus-a-copy\n",
      "  Nicolas_Cage_df['sort_genres'] = Nicolas_Cage_df.genres.str.split('|')\n"
     ]
    }
   ],
   "source": [
    "Nicolas_Cage_df = data_cast[data_cast.sort_cast == 'Nicolas Cage']\n",
    "Nicolas_Cage_df['sort_genres'] = Nicolas_Cage_df.genres.str.split('|')\n",
    "Nicolas_Cage_df_new = Nicolas_Cage_df.explode('sort_genres')\n",
    "answers['17'] = Nicolas_Cage_df_new.sort_genres.value_counts().index[0]"
   ]
  },
  {
   "cell_type": "markdown",
   "metadata": {
    "colab_type": "text",
    "id": "RqOmPRfWVp_q"
   },
   "source": [
    "# 18. Самый убыточный фильм от Paramount Pictures"
   ]
  },
  {
   "cell_type": "code",
   "execution_count": 495,
   "metadata": {
    "colab": {},
    "colab_type": "code",
    "id": "9E_B0Y96Vp_r"
   },
   "outputs": [],
   "source": [
    "data['sort_production_companies'] = data.production_companies.str.split('|')\n",
    "data_production_companies = data.explode('sort_production_companies')\n",
    "Paramount_Pictures_df = data_production_companies[data_production_companies['sort_production_companies'] == 'Paramount Pictures']\n",
    "answers['18'] = Paramount_Pictures_df.original_title[Paramount_Pictures_df.profit == Paramount_Pictures_df.profit.min()].iloc[0]"
   ]
  },
  {
   "cell_type": "markdown",
   "metadata": {
    "colab_type": "text",
    "id": "vS8Ur6ddVp_u"
   },
   "source": [
    "# 19. Какой год стал самым успешным по суммарным кассовым сборам?"
   ]
  },
  {
   "cell_type": "code",
   "execution_count": 496,
   "metadata": {
    "colab": {},
    "colab_type": "code",
    "id": "Dnbt4GdIVp_v"
   },
   "outputs": [],
   "source": [
    "answers['19'] = data.groupby(['release_year'])['revenue'].sum().sort_values(ascending = False).index[0]"
   ]
  },
  {
   "cell_type": "markdown",
   "metadata": {
    "colab_type": "text",
    "id": "JAzJh4QAVp_z"
   },
   "source": [
    "# 20. Какой самый прибыльный год для студии Warner Bros?"
   ]
  },
  {
   "cell_type": "code",
   "execution_count": 522,
   "metadata": {
    "colab": {},
    "colab_type": "code",
    "id": "wgVu02DEVp_0"
   },
   "outputs": [],
   "source": [
    "Warner_Bros_df = data_production_companies[data_production_companies['sort_production_companies'].str.contains('Warner Bros')]\n",
    "answers['20'] = Warner_Bros_df.groupby(['release_year'])['profit'].sum().sort_values(ascending = False).index[0]"
   ]
  },
  {
   "cell_type": "markdown",
   "metadata": {
    "colab_type": "text",
    "id": "8Im1S2HRVp_4"
   },
   "source": [
    "# 21. В каком месяце за все годы суммарно вышло больше всего фильмов?"
   ]
  },
  {
   "cell_type": "code",
   "execution_count": 498,
   "metadata": {
    "colab": {},
    "colab_type": "code",
    "id": "lev6TH7gVp_4"
   },
   "outputs": [],
   "source": [
    "data['month'] = data.release_date.apply(lambda x: x.split('/')[0])\n",
    "answers['21'] = data.groupby(['month'])['original_title'].count().sort_values(ascending = False).index[0]"
   ]
  },
  {
   "cell_type": "markdown",
   "metadata": {
    "colab_type": "text",
    "id": "uAJsZ_NeVp_7"
   },
   "source": [
    "# 22. Сколько суммарно вышло фильмов летом? (за июнь, июль, август)"
   ]
  },
  {
   "cell_type": "code",
   "execution_count": 499,
   "metadata": {
    "colab": {},
    "colab_type": "code",
    "id": "Aa-hEREoVp_8"
   },
   "outputs": [],
   "source": [
    "answers['22'] = len(data[(data['month'] == '6') | (data['month'] == '7') | (data['month'] == '8')])"
   ]
  },
  {
   "cell_type": "markdown",
   "metadata": {
    "colab_type": "text",
    "id": "G94ppOY1VqAA"
   },
   "source": [
    "# 23. Для какого режиссера зима – самое продуктивное время года? "
   ]
  },
  {
   "cell_type": "code",
   "execution_count": 500,
   "metadata": {
    "colab": {},
    "colab_type": "code",
    "id": "RhNTsamuVqAB"
   },
   "outputs": [],
   "source": [
    "answers['23'] = data[(data['month'] == '12') | (data['month'] == '1') | (data['month'] == '2')]['director'].value_counts().index[0]"
   ]
  },
  {
   "cell_type": "markdown",
   "metadata": {
    "colab_type": "text",
    "id": "RBo0JVjVVqAF"
   },
   "source": [
    "# 24. Какая студия дает самые длинные названия своим фильмам по количеству символов?"
   ]
  },
  {
   "cell_type": "code",
   "execution_count": 501,
   "metadata": {
    "colab": {},
    "colab_type": "code",
    "id": "QRGS8L0iVqAG"
   },
   "outputs": [],
   "source": [
    "data_production_companies['len_title'] = data_production_companies.original_title.apply(lambda x: len(x))\n",
    "answers['24'] = data_production_companies.groupby(['sort_production_companies'])['len_title'].mean().sort_values(ascending = False).index[0]"
   ]
  },
  {
   "cell_type": "markdown",
   "metadata": {
    "colab_type": "text",
    "id": "9G0hbvR7VqAK"
   },
   "source": [
    "# 25. Описание фильмов какой студии в среднем самые длинные по количеству слов?"
   ]
  },
  {
   "cell_type": "code",
   "execution_count": 502,
   "metadata": {
    "colab": {},
    "colab_type": "code",
    "id": "Ge2GsLNxVqAK"
   },
   "outputs": [],
   "source": [
    "data_production_companies['len_overview'] = data_production_companies.overview.apply(lambda x: len(x.split()))\n",
    "answers['25'] = data_production_companies.groupby(['sort_production_companies'])['len_overview'].mean().sort_values(ascending = False).index[0]"
   ]
  },
  {
   "cell_type": "markdown",
   "metadata": {
    "colab_type": "text",
    "id": "FJ1AFt90VqAP"
   },
   "source": [
    "# 26. Какие фильмы входят в 1 процент лучших по рейтингу? \n",
    "по vote_average"
   ]
  },
  {
   "cell_type": "code",
   "execution_count": 503,
   "metadata": {
    "colab": {},
    "colab_type": "code",
    "id": "8qmJVq4CVqAQ"
   },
   "outputs": [
    {
     "data": {
      "text/plain": [
       "9                                          Inside Out\n",
       "34                                               Room\n",
       "118                                      Interstellar\n",
       "119                           Guardians of the Galaxy\n",
       "125                                The Imitation Game\n",
       "128                                         Gone Girl\n",
       "138                          The Grand Budapest Hotel\n",
       "370                                         Inception\n",
       "599                                   The Dark Knight\n",
       "872                                       The Pianist\n",
       "1081    The Lord of the Rings: The Return of the King\n",
       "1183                          The Wolf of Wall Street\n",
       "1191                                 12 Years a Slave\n",
       "1800                                          Memento\n",
       "Name: original_title, dtype: object"
      ]
     },
     "execution_count": 503,
     "metadata": {},
     "output_type": "execute_result"
    }
   ],
   "source": [
    "data[data['vote_average'] > data.quantile(0.99, numeric_only = True)['vote_average']]['original_title']"
   ]
  },
  {
   "cell_type": "markdown",
   "metadata": {
    "colab_type": "text",
    "id": "MdXsUXbCVqAV"
   },
   "source": [
    "# 27. Какие актеры чаще всего снимаются в одном фильме вместе?\n"
   ]
  },
  {
   "cell_type": "code",
   "execution_count": 504,
   "metadata": {},
   "outputs": [
    {
     "data": {
      "text/plain": [
       "Daniel Radcliffe, Rupert Grint       8\n",
       "Daniel Radcliffe, Emma Watson        8\n",
       "Emma Watson, Rupert Grint            8\n",
       "Ben Stiller, Owen Wilson             6\n",
       "Helena Bonham Carter, Johnny Depp    6\n",
       "                                    ..\n",
       "Benjamin Bratt, Robert Mammone       1\n",
       "Bill Nighy, Jean Reno                1\n",
       "Jordi MollÃ , Peter Stormare         1\n",
       "Bill Murray, Jason Schwartzman       1\n",
       "Aaron Paul, Ben Mendelsohn           1\n",
       "Name: pair, Length: 17943, dtype: int64"
      ]
     },
     "execution_count": 504,
     "metadata": {},
     "output_type": "execute_result"
    }
   ],
   "source": [
    "import itertools\n",
    "pairs_cast = []\n",
    "pairs_cast_all = []\n",
    "for pair_cast in data.sort_cast:\n",
    "    pair_comb = itertools.combinations (sorted(pair_cast), 2)\n",
    "    pairs = [', '.join(i) for i in pair_comb]\n",
    "    pairs_cast.append(pairs)\n",
    "for nobers in range(len(pairs_cast)):\n",
    "    pairs_cast_all += pairs_cast[nobers]\n",
    "pairs_df = pd.DataFrame({'pair': pairs_cast_all})\n",
    "pairs_df.pair.value_counts()"
   ]
  },
  {
   "cell_type": "markdown",
   "metadata": {
    "colab_type": "text",
    "id": "4ymnxEVoVqAW"
   },
   "source": [
    "ВАРИАНТ 2"
   ]
  },
  {
   "cell_type": "code",
   "execution_count": 505,
   "metadata": {},
   "outputs": [
    {
     "data": {
      "text/plain": [
       "pair\n",
       "Daniel Radcliffe, Rupert Grint       8\n",
       "Emma Watson, Rupert Grint            8\n",
       "Daniel Radcliffe, Emma Watson        8\n",
       "Helena Bonham Carter, Johnny Depp    6\n",
       "Ben Stiller, Owen Wilson             6\n",
       "                                    ..\n",
       "Jane Fonda, Jennifer Lopez           1\n",
       "Jane Alexander, Ty Burrell           1\n",
       "Jane Alexander, Robert Downey Jr.    1\n",
       "Jane Alexander, Nicole Kidman        1\n",
       "50 Cent, Adewale Akinnuoye-Agbaje    1\n",
       "Name: pair, Length: 17943, dtype: int64"
      ]
     },
     "execution_count": 505,
     "metadata": {},
     "output_type": "execute_result"
    }
   ],
   "source": [
    "pairs_df.groupby(['pair'])['pair'].count().sort_values(ascending = False)"
   ]
  },
  {
   "cell_type": "markdown",
   "metadata": {
    "colab_type": "text",
    "id": "U0nONFnGVqAX"
   },
   "source": [
    "# Submission"
   ]
  },
  {
   "cell_type": "code",
   "execution_count": 562,
   "metadata": {
    "colab": {},
    "colab_type": "code",
    "id": "IfcaRO9-VqAX",
    "outputId": "0f132912-32bb-4196-c98c-abfbc4ad5a5f"
   },
   "outputs": [
    {
     "data": {
      "text/plain": [
       "{'1': 'Pirates of the Caribbean: On Stranger Tides',\n",
       " '2': 'Gods and Generals',\n",
       " '3': 'Winnie the Pooh',\n",
       " '4': 109.6585494970884,\n",
       " '5': 107.0,\n",
       " '6': 'Avatar',\n",
       " '7': 'The Lone Ranger',\n",
       " '8': 1478,\n",
       " '9': 'The Dark Knight',\n",
       " '10': 'The Lone Ranger',\n",
       " '11': 'Drama',\n",
       " '12': 'Drama',\n",
       " '13': 'Peter Jackson',\n",
       " '14': 'Robert Rodriguez',\n",
       " '15': 'Chris Hemsworth',\n",
       " '16': 'Matt Damon',\n",
       " '17': 'Action',\n",
       " '18': 'K-19: The Widowmaker',\n",
       " '19': 2015,\n",
       " '20': 2014,\n",
       " '21': '9',\n",
       " '22': 450,\n",
       " '23': 'Peter Jackson',\n",
       " '24': 'Four By Two Productions',\n",
       " '25': 'Midnight Picture Show'}"
      ]
     },
     "execution_count": 562,
     "metadata": {},
     "output_type": "execute_result"
    }
   ],
   "source": [
    "# в конце можно посмотреть свои ответы к каждому вопросу\n",
    "answers"
   ]
  },
  {
   "cell_type": "code",
   "execution_count": 507,
   "metadata": {
    "colab": {},
    "colab_type": "code",
    "id": "SiRmHPl8VqAd"
   },
   "outputs": [
    {
     "data": {
      "text/plain": [
       "25"
      ]
     },
     "execution_count": 507,
     "metadata": {},
     "output_type": "execute_result"
    }
   ],
   "source": [
    "# и убедиться что ни чего не пропустил)\n",
    "len(answers)"
   ]
  },
  {
   "cell_type": "code",
   "execution_count": 0,
   "metadata": {
    "colab": {},
    "colab_type": "code",
    "id": "uCfuTkRbVqAg"
   },
   "outputs": [],
   "source": []
  },
  {
   "cell_type": "code",
   "execution_count": null,
   "metadata": {
    "colab": {},
    "colab_type": "code",
    "id": "Vwx3NrkSVqAl"
   },
   "outputs": [],
   "source": []
  },
  {
   "cell_type": "code",
   "execution_count": null,
   "metadata": {},
   "outputs": [],
   "source": []
  }
 ],
 "metadata": {
  "colab": {
   "name": "Copy of [SF-DST] Movies IMBD v4.1 TEMPLATE.ipynb",
   "provenance": []
  },
  "kernelspec": {
   "display_name": "Python 3",
   "language": "python",
   "name": "python3"
  },
  "language_info": {
   "codemirror_mode": {
    "name": "ipython",
    "version": 3
   },
   "file_extension": ".py",
   "mimetype": "text/x-python",
   "name": "python",
   "nbconvert_exporter": "python",
   "pygments_lexer": "ipython3",
   "version": "3.8.3"
  }
 },
 "nbformat": 4,
 "nbformat_minor": 1
}
